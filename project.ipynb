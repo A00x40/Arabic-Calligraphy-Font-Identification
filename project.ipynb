{
 "cells": [
  {
   "cell_type": "markdown",
   "metadata": {},
   "source": [
    "# Imports"
   ]
  },
  {
   "cell_type": "code",
   "execution_count": 1,
   "metadata": {},
   "outputs": [],
   "source": [
    "import numpy as np\n",
    "import os"
   ]
  },
  {
   "cell_type": "code",
   "execution_count": 8,
   "metadata": {},
   "outputs": [
    {
     "name": "stdout",
     "output_type": "stream",
     "text": [
      "9\n",
      "['1___diwani' '2___naskh' '3___parsi' '4___rekaa' '5___thuluth'\n",
      " '6___maghribi' '7___kufi' '8___mohakek' '9___Squar-kufic']\n"
     ]
    }
   ],
   "source": [
    "names = []\n",
    "images_path = []\n",
    "\n",
    "if os.path.exists(\"ACdata_base\") is False:\n",
    "    print(\"Wrong Data Path\")\n",
    "else:\n",
    "    names = np.loadtxt(\"ACdata_base/names.txt\", dtype=str)\n",
    "    dir_template = \"ACdata_base/{}\"\n",
    "\n",
    "    for i in range(1, 10):\n",
    "        dir = dir_template.format(i)\n",
    "    \n",
    "        if os.path.exists(dir) is False:\n",
    "            print(f\"Directory {dir} doesn't exist\")\n",
    "        else:\n",
    "            dir_files = np.array([os.path.join(dir, filename) for filename in os.listdir(dir) if filename.endswith(\".jpg\")])\n",
    "            images_path.append(dir_files)\n",
    "\n",
    "    images_path = np.array(images_path , dtype=object)  \n",
    "    print(len(images_path))\n",
    "    print(names)"
   ]
  }
 ],
 "metadata": {
  "interpreter": {
   "hash": "7133108e2884a30f833578402d9c2264296c010936535ce7b2a5a5392c953483"
  },
  "kernelspec": {
   "display_name": "Python 3.8.1 32-bit",
   "language": "python",
   "name": "python3"
  },
  "language_info": {
   "codemirror_mode": {
    "name": "ipython",
    "version": 3
   },
   "file_extension": ".py",
   "mimetype": "text/x-python",
   "name": "python",
   "nbconvert_exporter": "python",
   "pygments_lexer": "ipython3",
   "version": "3.8.1"
  },
  "orig_nbformat": 4
 },
 "nbformat": 4,
 "nbformat_minor": 2
}
